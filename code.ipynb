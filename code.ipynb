{
 "cells": [
  {
   "cell_type": "code",
   "execution_count": null,
   "id": "572c1d5a",
   "metadata": {},
   "outputs": [],
   "source": [
    "import numpy as np\n",
    "import matplotlib.pyplot as plt\n",
    "import seaborn as sns\n",
    "import pandas as pd\n"
   ]
  },
  {
   "cell_type": "code",
   "execution_count": null,
   "id": "8935a957",
   "metadata": {},
   "outputs": [],
   "source": [
    "data1 = pd.read_csv('Copy of applicants.csv', encoding='latin1')\n",
    "data2 = pd.read_csv('Copy of company_database_revised.csv', encoding='latin1')\n",
    "display(data2.head())\n",
    "display(data1.head())"
   ]
  },
  {
   "cell_type": "code",
   "execution_count": null,
   "id": "c5d7d3dd",
   "metadata": {},
   "outputs": [],
   "source": [
    "A_class10 = (data1['Class 10 %'].values[:, None] >= data2['Class 10 Percentage'].values[None, :]).astype(float)\n",
    "class10_match_pct = A_class10\n",
    "class10_df = pd.DataFrame(\n",
    "    class10_match_pct,\n",
    "    index=data1['Full Name'],\n",
    "    columns=data2['Company Name']\n",
    ")\n",
    "print(class10_df)"
   ]
  },
  {
   "cell_type": "code",
   "execution_count": null,
   "id": "0da5925e",
   "metadata": {},
   "outputs": [],
   "source": [
    "A_class12= (data1['Class 12 %'].values[:, None] >= data2['Class 12 Percentage'].values[None, :]).astype(float)\n",
    "class12_match_pct = A_class12\n",
    "class12_df = pd.DataFrame(\n",
    "    class12_match_pct,\n",
    "    index=data1['Full Name'],\n",
    "    columns=data2['Company Name']\n",
    ")\n",
    "print"
   ]
  },
  {
   "cell_type": "code",
   "execution_count": null,
   "id": "78b8482f",
   "metadata": {},
   "outputs": [],
   "source": [
    "A_cgpa = (data1['Grad_%'].values[:, None] >= data2['Graduation CGPA'].values[None, :]).astype(float)\n",
    "cgpa_match_pct = A_cgpa\n",
    "cgpa_df = pd.DataFrame(\n",
    "    cgpa_match_pct,\n",
    "    index=data1['Full Name'],\n",
    "    columns=data2['Company Name']\n",
    ")\n",
    "print(cgpa_df)"
   ]
  },
  {
   "cell_type": "code",
   "execution_count": null,
   "id": "a65ca3fd",
   "metadata": {},
   "outputs": [],
   "source": [
    "# Create new column for age range check\n",
    "data1['Eligibility'] = np.where((data1['Age'] >= 21) & (data1['Age'] <= 24), \n",
    "                               \"Eligible\", \"Not Eligible\")\n",
    "print(data1[['Age', 'Eligibility']].head())\n"
   ]
  },
  {
   "cell_type": "code",
   "execution_count": 81,
   "id": "dabd7efb",
   "metadata": {},
   "outputs": [
    {
     "name": "stderr",
     "output_type": "stream",
     "text": [
      "C:\\Users\\Debomoy Patra\\AppData\\Local\\Temp\\ipykernel_15208\\3220049668.py:7: DtypeWarning: Columns (0,1,6,7,8,9,10,11,13,14,15,16,17,18,21,22,23,25) have mixed types. Specify dtype option on import or set low_memory=False.\n",
      "  df = pd.read_csv(\"Copy of company_database_revised.csv\", encoding='latin1')\n"
     ]
    }
   ],
   "source": [
    "from fastapi import FastAPI, Query\n",
    "import pandas as pd\n",
    "\n",
    "app = FastAPI()\n",
    "\n",
    "# Load company dataset\n",
    "df = pd.read_csv(\"Copy of company_database_revised.csv\", encoding='latin1')\n",
    "\n",
    "@app.get(\"/match\")\n",
    "def match_skill(skill: str = Query(..., description=\"Enter student skill\")):\n",
    "    skill = skill.lower()\n",
    "    results = []\n",
    "\n",
    "    for _, row in df.iterrows():\n",
    "        company = row[\"Company\"]\n",
    "        skills = [s.strip().lower() for s in row[\"Skills\"].split(\",\")]\n",
    "        if skill in skills:\n",
    "            results.append({\"Company\": company, \"MatchSkill\": skill})\n",
    "\n",
    "    return {\"UserSkill\": skill, \"Matches\": results}\n"
   ]
  }
 ],
 "metadata": {
  "kernelspec": {
   "display_name": "Python 3",
   "language": "python",
   "name": "python3"
  },
  "language_info": {
   "codemirror_mode": {
    "name": "ipython",
    "version": 3
   },
   "file_extension": ".py",
   "mimetype": "text/x-python",
   "name": "python",
   "nbconvert_exporter": "python",
   "pygments_lexer": "ipython3",
   "version": "3.13.6"
  }
 },
 "nbformat": 4,
 "nbformat_minor": 5
}
